{
  "nbformat": 4,
  "nbformat_minor": 0,
  "metadata": {
    "colab": {
      "name": "Final Assignment.ipynb",
      "provenance": [],
      "collapsed_sections": []
    },
    "kernelspec": {
      "name": "python3",
      "display_name": "Python 3"
    },
    "language_info": {
      "name": "python"
    },
    "accelerator": "GPU"
  },
  "cells": [
    {
      "cell_type": "code",
      "source": [
        "from google.colab import files\n",
        "\n",
        "uploaded = files.upload()\n",
        "\n",
        "for fn in uploaded.keys():\n",
        "  print('User uploaded file \"{name}\" with length {length} bytes'.format(\n",
        "      name=fn, length=len(uploaded[fn])))\n",
        "  \n",
        "# Then move kaggle.json into the folder where the API expects to find it.\n",
        "!mkdir -p ~/.kaggle/ && mv kaggle.json ~/.kaggle/ && chmod 600 ~/.kaggle/kaggle.json\n",
        "\n",
        "!kaggle competitions download ucsc-cse-164-spring-2022-final-project --force\n",
        "!unzip ucsc-cse-164-spring-2022-final-project"
      ],
      "metadata": {
        "id": "rAH_jhDbiigw",
        "colab": {
          "base_uri": "https://localhost:8080/",
          "resources": {
            "http://localhost:8080/nbextensions/google.colab/files.js": {
              "data": "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",
              "ok": true,
              "headers": [
                [
                  "content-type",
                  "application/javascript"
                ]
              ],
              "status": 200,
              "status_text": ""
            }
          },
          "height": 146
        },
        "outputId": "7f1aaa47-d792-4449-f0f7-1a5dd5da910c"
      },
      "execution_count": null,
      "outputs": [
        {
          "output_type": "display_data",
          "data": {
            "text/plain": [
              "<IPython.core.display.HTML object>"
            ],
            "text/html": [
              "\n",
              "     <input type=\"file\" id=\"files-c2b60cff-9c21-4afa-8be7-6260fdecc4c5\" name=\"files[]\" multiple disabled\n",
              "        style=\"border:none\" />\n",
              "     <output id=\"result-c2b60cff-9c21-4afa-8be7-6260fdecc4c5\">\n",
              "      Upload widget is only available when the cell has been executed in the\n",
              "      current browser session. Please rerun this cell to enable.\n",
              "      </output>\n",
              "      <script src=\"/nbextensions/google.colab/files.js\"></script> "
            ]
          },
          "metadata": {}
        },
        {
          "output_type": "stream",
          "name": "stdout",
          "text": [
            "mv: cannot stat 'kaggle.json': No such file or directory\n",
            "Downloading ucsc-cse-164-spring-2022-final-project.zip to /content\n",
            " 99% 82.0M/83.2M [00:01<00:00, 58.1MB/s]\n",
            "100% 83.2M/83.2M [00:01<00:00, 48.0MB/s]\n",
            "Archive:  ucsc-cse-164-spring-2022-final-project.zip\n",
            "replace MedMNIST/lableed/0/0bq8dx5psrcg1w2he9f7.jpeg? [y]es, [n]o, [A]ll, [N]one, [r]ename: "
          ]
        }
      ]
    },
    {
      "cell_type": "code",
      "source": [
        "ylabel_dict = {}\n",
        "for i, line in enumerate(open(\"./MedMNIST/wnids.txt\", \"r\")):\n",
        "  ylabel_dict[line.rstrip(\"\\n\")] = i\n"
      ],
      "metadata": {
        "id": "2dyffHtZkvys"
      },
      "execution_count": null,
      "outputs": []
    },
    {
      "cell_type": "code",
      "source": [
        "print(ylabel_dict)"
      ],
      "metadata": {
        "colab": {
          "base_uri": "https://localhost:8080/"
        },
        "id": "ZCSpfOFL__Xm",
        "outputId": "6cf84f79-adf7-4b80-a358-e487cebaa501"
      },
      "execution_count": null,
      "outputs": [
        {
          "output_type": "stream",
          "name": "stdout",
          "text": [
            "{'0': 0, '1': 1, '2': 2, '3': 3, '4': 4, '5': 5}\n"
          ]
        }
      ]
    },
    {
      "cell_type": "code",
      "source": [
        "from glob import glob\n",
        "from PIL import Image\n",
        "import numpy as np\n",
        "unlabeled = glob(\"MedMNIST/unlabeled/*\")\n",
        "\n",
        "unlabeled_images = []\n",
        "untrue_labels = []\n",
        "for i in unlabeled:\n",
        "  img = np.array(Image.open(i).convert(\"RGB\"))\n",
        "  unlabeled_images.append(img)\n",
        "  untrue_labels.append(0)"
      ],
      "metadata": {
        "id": "pwDaWa77hkAB"
      },
      "execution_count": null,
      "outputs": []
    },
    {
      "cell_type": "code",
      "source": [
        "import re\n",
        "labeled = glob(\"MedMNIST/lableed/*/*\")\n",
        "labeled_images = []\n",
        "label = []\n",
        "for i in labeled:\n",
        "  labeled_images.append(np.array(Image.open(i).convert(\"RGB\")))\n",
        "  match_str = re.match(\"(\\S+)\\/(\\S+)\\/(\\S+)\", i)\n",
        "  l = ylabel_dict[(match_str[2])]\n",
        "  label.append(l)\n",
        "\n",
        "print(len(label))\n",
        "print(len(labeled_images))"
      ],
      "metadata": {
        "colab": {
          "base_uri": "https://localhost:8080/"
        },
        "id": "rHxR6Z2uikSs",
        "outputId": "b23aeb7c-68b4-4b94-f3e2-334dee436701"
      },
      "execution_count": null,
      "outputs": [
        {
          "output_type": "stream",
          "name": "stdout",
          "text": [
            "60\n",
            "60\n"
          ]
        }
      ]
    },
    {
      "cell_type": "code",
      "source": [
        "test = glob(\"MedMNIST/test/*\")\n",
        "test_images = []\n",
        "for i in test:\n",
        "  test_images.append(np.array(Image.open(i).convert(\"RGB\")))"
      ],
      "metadata": {
        "id": "7ss0JmE2nMjT"
      },
      "execution_count": null,
      "outputs": []
    },
    {
      "cell_type": "code",
      "source": [
        "labeled_images = np.array(labeled_images)\n",
        "test_images = np.array(test_images)\n",
        "untrue_labels = np.array(untrue_labels)\n",
        "unlabeled_images = np.array(unlabeled_images)\n",
        "label = np.array(label)\n",
        "unlabeled_images = unlabeled_images.astype(\"float32\") / 255\n",
        "\n",
        "x_train = labeled_images.astype(\"float32\") / 255\n",
        "y_train = np.array(label)\n",
        "x_test = test_images.astype(\"float32\") / 255\n"
      ],
      "metadata": {
        "id": "bf4QiDc7mJyn"
      },
      "execution_count": null,
      "outputs": []
    },
    {
      "cell_type": "code",
      "source": [
        "import tensorflow as tf\n",
        "from tensorflow import keras\n",
        "from tensorflow.keras import layers"
      ],
      "metadata": {
        "id": "umDI_rnf9ZvN"
      },
      "execution_count": null,
      "outputs": []
    },
    {
      "cell_type": "code",
      "source": [
        "num_classes = 5\n",
        "shape = (64, 64, 3)\n",
        "BATCH_SIZE = 64\n",
        "SHUFFLE_BUFFER_SIZE = 500\n"
      ],
      "metadata": {
        "id": "KaCCxqmS1VJB"
      },
      "execution_count": null,
      "outputs": []
    },
    {
      "cell_type": "code",
      "source": [
        "resnet_model = keras.Sequential()\n",
        "\n",
        "pretrained_model= tf.keras.applications.ResNet50(include_top=False,\n",
        "                   input_shape=(64,64,3),\n",
        "                   pooling='avg',classes=5,\n",
        "                   weights='imagenet')\n",
        "\n",
        "for layer in pretrained_model.layers:\n",
        "        layer.trainable=False\n",
        "\n",
        "resnet_model.add(pretrained_model)\n",
        "resnet_model.add(keras.layers.Flatten())\n",
        "resnet_model.add(keras.layers.Dense(units = 1024, activation = 'relu'))\n",
        "resnet_model.add(keras.layers.BatchNormalization())\n",
        "resnet_model.add(keras.layers.Dropout(0.5))\n",
        "resnet_model.add(keras.layers.Dense(512, activation='relu'))\n",
        "resnet_model.add(keras.layers.BatchNormalization())\n",
        "resnet_model.add(keras.layers.Dropout(0.5))\n",
        "resnet_model.add(keras.layers.Dense(256, activation='relu'))\n",
        "resnet_model.add(keras.layers.BatchNormalization())\n",
        "resnet_model.add(keras.layers.Dropout(0.5))\n",
        "resnet_model.add(keras.layers.Dense(128, activation='relu'))\n",
        "resnet_model.add(keras.layers.BatchNormalization())\n",
        "resnet_model.add(keras.layers.Dropout(0.5))\n",
        "resnet_model.add(keras.layers.Dense(100, activation = 'softmax'))"
      ],
      "metadata": {
        "id": "acgoteNN9bW9"
      },
      "execution_count": null,
      "outputs": []
    },
    {
      "cell_type": "code",
      "source": [
        "resnet_model.compile(optimizer=opt,loss='sparse_categorical_crossentropy',metrics=['accuracy'])\n",
        "resnet_model.fit(labeled_images, y_train, \n",
        "                           epochs=20,\n",
        "                          )"
      ],
      "metadata": {
        "colab": {
          "base_uri": "https://localhost:8080/"
        },
        "id": "LX5WbdeH2GLm",
        "outputId": "6c4f2033-5b9b-4532-9454-59cd00d47cb9"
      },
      "execution_count": null,
      "outputs": [
        {
          "output_type": "stream",
          "name": "stdout",
          "text": [
            "Epoch 1/20\n",
            "2/2 [==============================] - 4s 23ms/step - loss: 0.9024 - accuracy: 0.8833\n",
            "Epoch 2/20\n",
            "2/2 [==============================] - 0s 21ms/step - loss: 0.8650 - accuracy: 0.8667\n",
            "Epoch 3/20\n",
            "2/2 [==============================] - 0s 21ms/step - loss: 0.7698 - accuracy: 0.9000\n",
            "Epoch 4/20\n",
            "2/2 [==============================] - 0s 25ms/step - loss: 0.6789 - accuracy: 0.9333\n",
            "Epoch 5/20\n",
            "2/2 [==============================] - 0s 22ms/step - loss: 0.7020 - accuracy: 0.9000\n",
            "Epoch 6/20\n",
            "2/2 [==============================] - 0s 22ms/step - loss: 0.6355 - accuracy: 0.9333\n",
            "Epoch 7/20\n",
            "2/2 [==============================] - 0s 22ms/step - loss: 0.5936 - accuracy: 0.9833\n",
            "Epoch 8/20\n",
            "2/2 [==============================] - 0s 23ms/step - loss: 0.5716 - accuracy: 0.9500\n",
            "Epoch 9/20\n",
            "2/2 [==============================] - 0s 23ms/step - loss: 0.6353 - accuracy: 0.9333\n",
            "Epoch 10/20\n",
            "2/2 [==============================] - 0s 22ms/step - loss: 0.6511 - accuracy: 0.9500\n",
            "Epoch 11/20\n",
            "2/2 [==============================] - 0s 22ms/step - loss: 0.6335 - accuracy: 0.9167\n",
            "Epoch 12/20\n",
            "2/2 [==============================] - 0s 25ms/step - loss: 0.4718 - accuracy: 0.9667\n",
            "Epoch 13/20\n",
            "2/2 [==============================] - 0s 28ms/step - loss: 0.6204 - accuracy: 0.9167\n",
            "Epoch 14/20\n",
            "2/2 [==============================] - 0s 22ms/step - loss: 0.3781 - accuracy: 1.0000\n",
            "Epoch 15/20\n",
            "2/2 [==============================] - 0s 24ms/step - loss: 0.4889 - accuracy: 0.9833\n",
            "Epoch 16/20\n",
            "2/2 [==============================] - 0s 24ms/step - loss: 0.6782 - accuracy: 0.9167\n",
            "Epoch 17/20\n",
            "2/2 [==============================] - 0s 22ms/step - loss: 0.6428 - accuracy: 0.9167\n",
            "Epoch 18/20\n",
            "2/2 [==============================] - 0s 25ms/step - loss: 0.4550 - accuracy: 0.9167\n",
            "Epoch 19/20\n",
            "2/2 [==============================] - 0s 22ms/step - loss: 0.3161 - accuracy: 0.9833\n",
            "Epoch 20/20\n",
            "2/2 [==============================] - 0s 23ms/step - loss: 0.3158 - accuracy: 0.9833\n"
          ]
        },
        {
          "output_type": "execute_result",
          "data": {
            "text/plain": [
              "<keras.callbacks.History at 0x7f8d34ffd8d0>"
            ]
          },
          "metadata": {},
          "execution_count": 80
        }
      ]
    },
    {
      "cell_type": "code",
      "source": [
        "\n",
        "unlabeled_images = []\n",
        "untrue_labels = []\n",
        "for i in unlabeled:\n",
        "  img = np.array(Image.open(i).convert(\"RGB\"))\n",
        "  unlabeled_images.append(img)\n",
        "  untrue_labels.append(0)\n",
        "unlabeled_images = np.array(unlabeled_images)\n"
      ],
      "metadata": {
        "id": "tzCMD6LeJDU0"
      },
      "execution_count": null,
      "outputs": []
    },
    {
      "cell_type": "code",
      "source": [
        "y_prob = resnet_model.predict(unlabeled_images) "
      ],
      "metadata": {
        "id": "WHKSCi86L5v_"
      },
      "execution_count": null,
      "outputs": []
    },
    {
      "cell_type": "code",
      "source": [
        "y_classes = y_prob.argmax(axis=-1)"
      ],
      "metadata": {
        "id": "TCrz6jeMTne0"
      },
      "execution_count": null,
      "outputs": []
    },
    {
      "cell_type": "code",
      "source": [
        "counter = 0\n",
        "wanted_images = []\n",
        "wanted_labels = []\n",
        "for i in y_prob:\n",
        "  if max(i) >= 0.9:\n",
        "    wanted_images.append(unlabeled_images[counter])\n",
        "    wanted_labels.append(y_classes[counter])\n",
        "  counter +=1"
      ],
      "metadata": {
        "id": "PqeJFgx-MN-A"
      },
      "execution_count": null,
      "outputs": []
    },
    {
      "cell_type": "code",
      "source": [
        "print(len(wanted_images))\n",
        "print(len(wanted_labels))\n",
        "wanted_images = np.array(wanted_images)\n",
        "wanted_labels = np.array(wanted_labels)"
      ],
      "metadata": {
        "colab": {
          "base_uri": "https://localhost:8080/"
        },
        "id": "Z81si7V0OoEf",
        "outputId": "f9ae7cfb-f259-4884-f286-11c06bb95a60"
      },
      "execution_count": null,
      "outputs": [
        {
          "output_type": "stream",
          "name": "stdout",
          "text": [
            "36504\n",
            "36504\n"
          ]
        }
      ]
    },
    {
      "cell_type": "code",
      "source": [
        "labeled_images = np.append(labeled_images, wanted_images, axis=0)\n",
        "y_train = np.append(y_train, wanted_labels)"
      ],
      "metadata": {
        "id": "tJo1-7BsQiFh"
      },
      "execution_count": null,
      "outputs": []
    },
    {
      "cell_type": "code",
      "source": [
        "print(labeled_images.shape)\n",
        "print(y_train.shape)"
      ],
      "metadata": {
        "colab": {
          "base_uri": "https://localhost:8080/"
        },
        "id": "Szu5KdARUyiN",
        "outputId": "7764ed0c-7530-4a8c-d5ed-7b338350f8e3"
      },
      "execution_count": null,
      "outputs": [
        {
          "output_type": "stream",
          "name": "stdout",
          "text": [
            "(36564, 64, 64, 3)\n",
            "(36564,)\n"
          ]
        }
      ]
    },
    {
      "cell_type": "code",
      "source": [
        "resnet_model = keras.Sequential()\n",
        "\n",
        "pretrained_model= tf.keras.applications.ResNet50(include_top=False,\n",
        "                   input_shape=(64,64,3),\n",
        "                   pooling='avg',classes=5,\n",
        "                   weights='imagenet')\n",
        "\n",
        "for layer in pretrained_model.layers:\n",
        "        layer.trainable=False\n",
        "\n",
        "resnet_model.add(pretrained_model)\n",
        "resnet_model.add(keras.layers.Flatten())\n",
        "resnet_model.add(keras.layers.Dense(units = 1024, activation = 'relu'))\n",
        "resnet_model.add(keras.layers.BatchNormalization())\n",
        "resnet_model.add(keras.layers.Dropout(0.5))\n",
        "resnet_model.add(keras.layers.Dense(512, activation='relu'))\n",
        "resnet_model.add(keras.layers.BatchNormalization())\n",
        "resnet_model.add(keras.layers.Dropout(0.5))\n",
        "resnet_model.add(keras.layers.Dense(256, activation='relu'))\n",
        "resnet_model.add(keras.layers.BatchNormalization())\n",
        "resnet_model.add(keras.layers.Dropout(0.5))\n",
        "resnet_model.add(keras.layers.Dense(128, activation='relu'))\n",
        "resnet_model.add(keras.layers.BatchNormalization())\n",
        "resnet_model.add(keras.layers.Dropout(0.5))\n",
        "resnet_model.add(keras.layers.Dense(100, activation = 'softmax'))\n",
        "resnet_model.compile(optimizer=opt,loss='sparse_categorical_crossentropy',metrics=['accuracy'])\n",
        "resnet_model.fit(labeled_images, y_train, \n",
        "                           epochs=5,\n",
        "                          )"
      ],
      "metadata": {
        "colab": {
          "base_uri": "https://localhost:8080/"
        },
        "id": "QsYq7PjQU1XV",
        "outputId": "60036d70-b0dc-4dfb-e4e2-985b74fe415b"
      },
      "execution_count": null,
      "outputs": [
        {
          "output_type": "stream",
          "name": "stdout",
          "text": [
            "Epoch 1/5\n",
            "1143/1143 [==============================] - 29s 22ms/step - loss: 0.3092 - accuracy: 0.9466\n",
            "Epoch 2/5\n",
            "1143/1143 [==============================] - 24s 21ms/step - loss: 0.0239 - accuracy: 0.9962\n",
            "Epoch 3/5\n",
            "1143/1143 [==============================] - 24s 21ms/step - loss: 0.0168 - accuracy: 0.9967\n",
            "Epoch 4/5\n",
            "1143/1143 [==============================] - 24s 21ms/step - loss: 0.0115 - accuracy: 0.9979\n",
            "Epoch 5/5\n",
            "1143/1143 [==============================] - 24s 21ms/step - loss: 0.0092 - accuracy: 0.9984\n"
          ]
        },
        {
          "output_type": "execute_result",
          "data": {
            "text/plain": [
              "<keras.callbacks.History at 0x7f8d2ca0d050>"
            ]
          },
          "metadata": {},
          "execution_count": 122
        }
      ]
    },
    {
      "cell_type": "code",
      "source": [
        "print(len(test_images))\n",
        "test_prob = resnet_model.predict(test_images) \n",
        "test_classes = test_prob.argmax(axis=-1)"
      ],
      "metadata": {
        "colab": {
          "base_uri": "https://localhost:8080/"
        },
        "id": "z167pV3tVsCy",
        "outputId": "0b736db0-3089-4bbb-aba4-71243229d149"
      },
      "execution_count": null,
      "outputs": [
        {
          "output_type": "stream",
          "name": "stdout",
          "text": [
            "6000\n"
          ]
        }
      ]
    },
    {
      "cell_type": "code",
      "source": [
        "image_names = []\n",
        "for i in test:\n",
        "  match = re.match(\"(\\S+)\\/(\\S+)\\/(\\S+)\\.(\\S+)\", i)\n",
        "  image_names.append(match[3])\n",
        "image_names[0]"
      ],
      "metadata": {
        "colab": {
          "base_uri": "https://localhost:8080/",
          "height": 35
        },
        "id": "Q-jRNmITXOs4",
        "outputId": "eb37cf73-5a77-4d47-d036-15961f7c1303"
      },
      "execution_count": null,
      "outputs": [
        {
          "output_type": "execute_result",
          "data": {
            "text/plain": [
              "'i4rn5o79agkvwt61jmql'"
            ],
            "application/vnd.google.colaboratory.intrinsic+json": {
              "type": "string"
            }
          },
          "metadata": {},
          "execution_count": 133
        }
      ]
    },
    {
      "cell_type": "code",
      "source": [
        "import pandas as pd\n",
        "df = pd.read_csv(\"MedMNIST/samples.csv\")\n",
        "\n",
        "for i in range(len(test_classes)):\n",
        "  df.loc[i, 'image_id'] = image_names[i]\n",
        "  df.loc[i, 'label'] = test_classes[i]\n",
        "  \n",
        "\n",
        "df.to_csv(\"MedMNIST/samples.csv\", index=False)"
      ],
      "metadata": {
        "id": "bKuaxetPXuMt"
      },
      "execution_count": null,
      "outputs": []
    },
    {
      "cell_type": "code",
      "source": [
        "resnet_model.save(\"./content/MEDMNIST\")"
      ],
      "metadata": {
        "colab": {
          "base_uri": "https://localhost:8080/"
        },
        "id": "4h0Ha_zoY1rk",
        "outputId": "b5122aec-ec2a-4f2e-c2a0-978f0468e5a9"
      },
      "execution_count": null,
      "outputs": [
        {
          "output_type": "stream",
          "name": "stdout",
          "text": [
            "INFO:tensorflow:Assets written to: ./content/MEDMNIST/assets\n"
          ]
        }
      ]
    },
    {
      "cell_type": "markdown",
      "source": [
        "Note: I trained the original model (without unlabeled data) like 4 times. I stopped when accuracy was close to 1. So if ur gonna run the code again, you have to run that block 4 times."
      ],
      "metadata": {
        "id": "3lv8mQFhab0Y"
      }
    }
  ]
}